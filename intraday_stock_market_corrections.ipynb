{
 "cells": [
  {
   "cell_type": "markdown",
   "id": "65d35df6-c5d4-451c-a6e7-d7a29614e56b",
   "metadata": {},
   "source": [
    "<h2>Intraday Stock Market Corrections during Recent Presidencies, an Analysis.</h2>\n",
    "<br>\n",
    "Author: Johann Zaroli"
   ]
  },
  {
   "cell_type": "code",
   "execution_count": 1,
   "id": "45db7576-bc8a-48f3-9bd7-7231921185db",
   "metadata": {},
   "outputs": [],
   "source": [
    "import numpy as np\n",
    "import pandas as pd\n",
    "import math\n",
    "import scipy.stats as stats\n",
    "from scipy import special\n",
    "import matplotlib\n",
    "import matplotlib.pyplot as plt\n",
    "from IPython.display import display, Latex, Markdown\n",
    "import hashlib\n",
    "from datetime import date\n",
    "from scipy.stats import poisson\n",
    "%matplotlib inline"
   ]
  },
  {
   "cell_type": "markdown",
   "id": "b742336a-a4af-453a-a59f-44c24752fe9d",
   "metadata": {},
   "source": [
    "<h3>Premise:</h3>  \n",
    "This analysis takes into consideration intraday corrections larger than 2.71% during the three most recent presidencies (Trump 1, Biden, and Trump 2) to calculate the likelihood of corrections under each term and economic policies.  \n",
    "<br>\n",
    "<br>\n",
    "Why 2.71%? The 10/10/25 S&P500 correction was the inspiration for this analysis. The data used is from investing.com. The 10/10 correction was recorded as 2.71% in their database. There was alleged insider trading that day fear across the media, and people losing lots of money from leverage."
   ]
  },
  {
   "cell_type": "markdown",
   "id": "754056e7-0a42-4558-abcd-c8932c2f7ee1",
   "metadata": {},
   "source": [
    "<h3>Definitions:</h3>   \n",
    "\n",
    "Intraday Correction: A S&P500 drop larger than 2.71% as calculated from the start of the trading session to its end (single day).  \n",
    "<h3>Assumptions:</h3>  \n",
    "It's assumed that all intraday corrections are independent of one another. As a result, the calculations in this exercise may have their limitations. Not all intraday corrections are fully independent and some are clustered into large, geopolitical events like Covid or the China Trade War. A good analogy is with earthquakes, as explained on the wikipedia page for the Poisson Distribution: \"The number of magnitude 5 earthquakes per year in a country may not follow a Poisson distribution, if one large earthquake increases the probability of aftershocks of similar magnitude.\" A future iteration of this study would be wise to leverage either a mixed Poisson distribution or the compound Poisson process."
   ]
  },
  {
   "cell_type": "markdown",
   "id": "fe7a439b-7adf-4205-893a-4907ed288ab6",
   "metadata": {},
   "source": [
    "<h3>Data Important and Sanitization:</h3>   \n"
   ]
  },
  {
   "cell_type": "code",
   "execution_count": 2,
   "id": "4cc2ee95-c01d-4ae6-9ab4-80c8c1b49ff8",
   "metadata": {},
   "outputs": [
    {
     "data": {
      "text/html": [
       "<div>\n",
       "<style scoped>\n",
       "    .dataframe tbody tr th:only-of-type {\n",
       "        vertical-align: middle;\n",
       "    }\n",
       "\n",
       "    .dataframe tbody tr th {\n",
       "        vertical-align: top;\n",
       "    }\n",
       "\n",
       "    .dataframe thead th {\n",
       "        text-align: right;\n",
       "    }\n",
       "</style>\n",
       "<table border=\"1\" class=\"dataframe\">\n",
       "  <thead>\n",
       "    <tr style=\"text-align: right;\">\n",
       "      <th></th>\n",
       "      <th>Date</th>\n",
       "      <th>Price</th>\n",
       "      <th>Open</th>\n",
       "      <th>High</th>\n",
       "      <th>Low</th>\n",
       "      <th>Change %</th>\n",
       "    </tr>\n",
       "  </thead>\n",
       "  <tbody>\n",
       "    <tr>\n",
       "      <th>0</th>\n",
       "      <td>2025-10-14</td>\n",
       "      <td>6,644.31</td>\n",
       "      <td>6,602.49</td>\n",
       "      <td>6,680.70</td>\n",
       "      <td>6,555.07</td>\n",
       "      <td>-0.16</td>\n",
       "    </tr>\n",
       "    <tr>\n",
       "      <th>1</th>\n",
       "      <td>2025-10-13</td>\n",
       "      <td>6,654.72</td>\n",
       "      <td>6,622.53</td>\n",
       "      <td>6,668.68</td>\n",
       "      <td>6,620.71</td>\n",
       "      <td>1.56</td>\n",
       "    </tr>\n",
       "    <tr>\n",
       "      <th>2</th>\n",
       "      <td>2025-10-10</td>\n",
       "      <td>6,552.51</td>\n",
       "      <td>6,740.49</td>\n",
       "      <td>6,762.40</td>\n",
       "      <td>6,550.78</td>\n",
       "      <td>-2.71</td>\n",
       "    </tr>\n",
       "    <tr>\n",
       "      <th>3</th>\n",
       "      <td>2025-10-09</td>\n",
       "      <td>6,735.11</td>\n",
       "      <td>6,760.50</td>\n",
       "      <td>6,764.58</td>\n",
       "      <td>6,716.17</td>\n",
       "      <td>-0.28</td>\n",
       "    </tr>\n",
       "    <tr>\n",
       "      <th>4</th>\n",
       "      <td>2025-10-08</td>\n",
       "      <td>6,753.72</td>\n",
       "      <td>6,723.87</td>\n",
       "      <td>6,755.64</td>\n",
       "      <td>6,718.09</td>\n",
       "      <td>0.58</td>\n",
       "    </tr>\n",
       "  </tbody>\n",
       "</table>\n",
       "</div>"
      ],
      "text/plain": [
       "        Date     Price      Open      High       Low  Change %\n",
       "0 2025-10-14  6,644.31  6,602.49  6,680.70  6,555.07     -0.16\n",
       "1 2025-10-13  6,654.72  6,622.53  6,668.68  6,620.71      1.56\n",
       "2 2025-10-10  6,552.51  6,740.49  6,762.40  6,550.78     -2.71\n",
       "3 2025-10-09  6,735.11  6,760.50  6,764.58  6,716.17     -0.28\n",
       "4 2025-10-08  6,753.72  6,723.87  6,755.64  6,718.09      0.58"
      ]
     },
     "execution_count": 2,
     "metadata": {},
     "output_type": "execute_result"
    }
   ],
   "source": [
    "historical = pd.read_csv('./data/SP500HistoricalData.csv')\n",
    "\n",
    "# converts Date to datetime type:\n",
    "historical[\"Date\"] = pd.to_datetime(historical[\"Date\"])\n",
    "\n",
    "# converts Change % to float:\n",
    "historical[\"Change %\"] = (\n",
    "    historical[\"Change %\"]\n",
    "    .astype(str)\n",
    "    .str.replace(\"%\", \"\", regex=False)\n",
    "    .astype(float)\n",
    ")\n",
    "\n",
    "# drops volume column:\n",
    "historical.drop(\"Vol.\", axis=1, inplace=True)\n",
    "\n",
    "historical.head()\n",
    "# historical.dtypes"
   ]
  },
  {
   "cell_type": "markdown",
   "id": "f2b05301-22ea-4d61-8311-c4c90b93a950",
   "metadata": {},
   "source": [
    "<h2>Trump's First Term</h2>  "
   ]
  },
  {
   "cell_type": "code",
   "execution_count": 3,
   "id": "9ae0ca29-84c4-458d-92fe-ec2686f0dd05",
   "metadata": {},
   "outputs": [
    {
     "data": {
      "text/html": [
       "<div>\n",
       "<style scoped>\n",
       "    .dataframe tbody tr th:only-of-type {\n",
       "        vertical-align: middle;\n",
       "    }\n",
       "\n",
       "    .dataframe tbody tr th {\n",
       "        vertical-align: top;\n",
       "    }\n",
       "\n",
       "    .dataframe thead th {\n",
       "        text-align: right;\n",
       "    }\n",
       "</style>\n",
       "<table border=\"1\" class=\"dataframe\">\n",
       "  <thead>\n",
       "    <tr style=\"text-align: right;\">\n",
       "      <th></th>\n",
       "      <th>Date</th>\n",
       "      <th>Price</th>\n",
       "      <th>Open</th>\n",
       "      <th>High</th>\n",
       "      <th>Low</th>\n",
       "      <th>Change %</th>\n",
       "    </tr>\n",
       "  </thead>\n",
       "  <tbody>\n",
       "    <tr>\n",
       "      <th>1245</th>\n",
       "      <td>2020-10-28</td>\n",
       "      <td>3,271.00</td>\n",
       "      <td>3,342.50</td>\n",
       "      <td>3,342.50</td>\n",
       "      <td>3,268.90</td>\n",
       "      <td>-3.53</td>\n",
       "    </tr>\n",
       "    <tr>\n",
       "      <th>1281</th>\n",
       "      <td>2020-09-08</td>\n",
       "      <td>3,331.80</td>\n",
       "      <td>3,371.90</td>\n",
       "      <td>3,380.00</td>\n",
       "      <td>3,329.30</td>\n",
       "      <td>-2.78</td>\n",
       "    </tr>\n",
       "    <tr>\n",
       "      <th>1283</th>\n",
       "      <td>2020-09-03</td>\n",
       "      <td>3,455.10</td>\n",
       "      <td>3,564.70</td>\n",
       "      <td>3,564.80</td>\n",
       "      <td>3,427.40</td>\n",
       "      <td>-3.51</td>\n",
       "    </tr>\n",
       "    <tr>\n",
       "      <th>1342</th>\n",
       "      <td>2020-06-11</td>\n",
       "      <td>3,002.10</td>\n",
       "      <td>3,123.50</td>\n",
       "      <td>3,123.50</td>\n",
       "      <td>2,999.50</td>\n",
       "      <td>-5.89</td>\n",
       "    </tr>\n",
       "    <tr>\n",
       "      <th>1370</th>\n",
       "      <td>2020-05-01</td>\n",
       "      <td>2,830.70</td>\n",
       "      <td>2,869.10</td>\n",
       "      <td>2,869.10</td>\n",
       "      <td>2,821.60</td>\n",
       "      <td>-2.81</td>\n",
       "    </tr>\n",
       "    <tr>\n",
       "      <th>1378</th>\n",
       "      <td>2020-04-21</td>\n",
       "      <td>2,736.60</td>\n",
       "      <td>2,784.80</td>\n",
       "      <td>2,785.50</td>\n",
       "      <td>2,727.10</td>\n",
       "      <td>-3.07</td>\n",
       "    </tr>\n",
       "    <tr>\n",
       "      <th>1391</th>\n",
       "      <td>2020-04-01</td>\n",
       "      <td>2,470.50</td>\n",
       "      <td>2,498.10</td>\n",
       "      <td>2,522.80</td>\n",
       "      <td>2,447.50</td>\n",
       "      <td>-4.41</td>\n",
       "    </tr>\n",
       "    <tr>\n",
       "      <th>1394</th>\n",
       "      <td>2020-03-27</td>\n",
       "      <td>2,541.50</td>\n",
       "      <td>2,555.90</td>\n",
       "      <td>2,615.90</td>\n",
       "      <td>2,520.00</td>\n",
       "      <td>-3.37</td>\n",
       "    </tr>\n",
       "    <tr>\n",
       "      <th>1398</th>\n",
       "      <td>2020-03-23</td>\n",
       "      <td>2,237.40</td>\n",
       "      <td>2,290.70</td>\n",
       "      <td>2,300.70</td>\n",
       "      <td>2,191.90</td>\n",
       "      <td>-2.93</td>\n",
       "    </tr>\n",
       "    <tr>\n",
       "      <th>1399</th>\n",
       "      <td>2020-03-20</td>\n",
       "      <td>2,304.90</td>\n",
       "      <td>2,431.90</td>\n",
       "      <td>2,453.00</td>\n",
       "      <td>2,295.60</td>\n",
       "      <td>-4.34</td>\n",
       "    </tr>\n",
       "    <tr>\n",
       "      <th>1401</th>\n",
       "      <td>2020-03-18</td>\n",
       "      <td>2,398.10</td>\n",
       "      <td>2,436.50</td>\n",
       "      <td>2,453.60</td>\n",
       "      <td>2,280.50</td>\n",
       "      <td>-5.18</td>\n",
       "    </tr>\n",
       "    <tr>\n",
       "      <th>1403</th>\n",
       "      <td>2020-03-16</td>\n",
       "      <td>2,386.10</td>\n",
       "      <td>2,508.60</td>\n",
       "      <td>2,563.00</td>\n",
       "      <td>2,380.90</td>\n",
       "      <td>-11.98</td>\n",
       "    </tr>\n",
       "    <tr>\n",
       "      <th>1405</th>\n",
       "      <td>2020-03-12</td>\n",
       "      <td>2,480.60</td>\n",
       "      <td>2,630.90</td>\n",
       "      <td>2,660.90</td>\n",
       "      <td>2,478.90</td>\n",
       "      <td>-9.51</td>\n",
       "    </tr>\n",
       "    <tr>\n",
       "      <th>1406</th>\n",
       "      <td>2020-03-11</td>\n",
       "      <td>2,741.40</td>\n",
       "      <td>2,825.60</td>\n",
       "      <td>2,825.60</td>\n",
       "      <td>2,707.20</td>\n",
       "      <td>-4.89</td>\n",
       "    </tr>\n",
       "    <tr>\n",
       "      <th>1408</th>\n",
       "      <td>2020-03-09</td>\n",
       "      <td>2,746.60</td>\n",
       "      <td>2,863.90</td>\n",
       "      <td>2,863.90</td>\n",
       "      <td>2,734.40</td>\n",
       "      <td>-7.60</td>\n",
       "    </tr>\n",
       "    <tr>\n",
       "      <th>1410</th>\n",
       "      <td>2020-03-05</td>\n",
       "      <td>3,023.90</td>\n",
       "      <td>3,075.70</td>\n",
       "      <td>3,083.00</td>\n",
       "      <td>2,999.80</td>\n",
       "      <td>-3.39</td>\n",
       "    </tr>\n",
       "    <tr>\n",
       "      <th>1412</th>\n",
       "      <td>2020-03-03</td>\n",
       "      <td>3,003.40</td>\n",
       "      <td>3,096.50</td>\n",
       "      <td>3,136.70</td>\n",
       "      <td>2,976.60</td>\n",
       "      <td>-2.81</td>\n",
       "    </tr>\n",
       "    <tr>\n",
       "      <th>1415</th>\n",
       "      <td>2020-02-27</td>\n",
       "      <td>2,978.80</td>\n",
       "      <td>3,062.50</td>\n",
       "      <td>3,097.10</td>\n",
       "      <td>2,977.40</td>\n",
       "      <td>-4.42</td>\n",
       "    </tr>\n",
       "    <tr>\n",
       "      <th>1417</th>\n",
       "      <td>2020-02-25</td>\n",
       "      <td>3,128.20</td>\n",
       "      <td>3,238.90</td>\n",
       "      <td>3,247.00</td>\n",
       "      <td>3,118.80</td>\n",
       "      <td>-3.03</td>\n",
       "    </tr>\n",
       "    <tr>\n",
       "      <th>1418</th>\n",
       "      <td>2020-02-24</td>\n",
       "      <td>3,225.90</td>\n",
       "      <td>3,257.60</td>\n",
       "      <td>3,259.80</td>\n",
       "      <td>3,214.70</td>\n",
       "      <td>-3.35</td>\n",
       "    </tr>\n",
       "    <tr>\n",
       "      <th>1550</th>\n",
       "      <td>2019-08-14</td>\n",
       "      <td>2,840.60</td>\n",
       "      <td>2,894.20</td>\n",
       "      <td>2,894.20</td>\n",
       "      <td>2,839.60</td>\n",
       "      <td>-2.93</td>\n",
       "    </tr>\n",
       "    <tr>\n",
       "      <th>1557</th>\n",
       "      <td>2019-08-05</td>\n",
       "      <td>2,844.70</td>\n",
       "      <td>2,898.10</td>\n",
       "      <td>2,898.10</td>\n",
       "      <td>2,822.10</td>\n",
       "      <td>-2.98</td>\n",
       "    </tr>\n",
       "    <tr>\n",
       "      <th>1710</th>\n",
       "      <td>2018-12-24</td>\n",
       "      <td>2,351.10</td>\n",
       "      <td>2,400.60</td>\n",
       "      <td>2,410.30</td>\n",
       "      <td>2,351.10</td>\n",
       "      <td>-2.71</td>\n",
       "    </tr>\n",
       "    <tr>\n",
       "      <th>1723</th>\n",
       "      <td>2018-12-04</td>\n",
       "      <td>2,700.10</td>\n",
       "      <td>2,782.40</td>\n",
       "      <td>2,785.90</td>\n",
       "      <td>2,697.20</td>\n",
       "      <td>-3.24</td>\n",
       "    </tr>\n",
       "    <tr>\n",
       "      <th>1751</th>\n",
       "      <td>2018-10-24</td>\n",
       "      <td>2,656.10</td>\n",
       "      <td>2,737.90</td>\n",
       "      <td>2,742.60</td>\n",
       "      <td>2,651.90</td>\n",
       "      <td>-3.09</td>\n",
       "    </tr>\n",
       "    <tr>\n",
       "      <th>1761</th>\n",
       "      <td>2018-10-10</td>\n",
       "      <td>2,785.70</td>\n",
       "      <td>2,873.90</td>\n",
       "      <td>2,874.00</td>\n",
       "      <td>2,784.90</td>\n",
       "      <td>-3.28</td>\n",
       "    </tr>\n",
       "    <tr>\n",
       "      <th>1930</th>\n",
       "      <td>2018-02-08</td>\n",
       "      <td>2,581.00</td>\n",
       "      <td>2,685.00</td>\n",
       "      <td>2,685.30</td>\n",
       "      <td>2,580.60</td>\n",
       "      <td>-3.76</td>\n",
       "    </tr>\n",
       "    <tr>\n",
       "      <th>1933</th>\n",
       "      <td>2018-02-05</td>\n",
       "      <td>2,648.90</td>\n",
       "      <td>2,741.10</td>\n",
       "      <td>2,763.40</td>\n",
       "      <td>2,638.20</td>\n",
       "      <td>-4.10</td>\n",
       "    </tr>\n",
       "  </tbody>\n",
       "</table>\n",
       "</div>"
      ],
      "text/plain": [
       "           Date     Price      Open      High       Low  Change %\n",
       "1245 2020-10-28  3,271.00  3,342.50  3,342.50  3,268.90     -3.53\n",
       "1281 2020-09-08  3,331.80  3,371.90  3,380.00  3,329.30     -2.78\n",
       "1283 2020-09-03  3,455.10  3,564.70  3,564.80  3,427.40     -3.51\n",
       "1342 2020-06-11  3,002.10  3,123.50  3,123.50  2,999.50     -5.89\n",
       "1370 2020-05-01  2,830.70  2,869.10  2,869.10  2,821.60     -2.81\n",
       "1378 2020-04-21  2,736.60  2,784.80  2,785.50  2,727.10     -3.07\n",
       "1391 2020-04-01  2,470.50  2,498.10  2,522.80  2,447.50     -4.41\n",
       "1394 2020-03-27  2,541.50  2,555.90  2,615.90  2,520.00     -3.37\n",
       "1398 2020-03-23  2,237.40  2,290.70  2,300.70  2,191.90     -2.93\n",
       "1399 2020-03-20  2,304.90  2,431.90  2,453.00  2,295.60     -4.34\n",
       "1401 2020-03-18  2,398.10  2,436.50  2,453.60  2,280.50     -5.18\n",
       "1403 2020-03-16  2,386.10  2,508.60  2,563.00  2,380.90    -11.98\n",
       "1405 2020-03-12  2,480.60  2,630.90  2,660.90  2,478.90     -9.51\n",
       "1406 2020-03-11  2,741.40  2,825.60  2,825.60  2,707.20     -4.89\n",
       "1408 2020-03-09  2,746.60  2,863.90  2,863.90  2,734.40     -7.60\n",
       "1410 2020-03-05  3,023.90  3,075.70  3,083.00  2,999.80     -3.39\n",
       "1412 2020-03-03  3,003.40  3,096.50  3,136.70  2,976.60     -2.81\n",
       "1415 2020-02-27  2,978.80  3,062.50  3,097.10  2,977.40     -4.42\n",
       "1417 2020-02-25  3,128.20  3,238.90  3,247.00  3,118.80     -3.03\n",
       "1418 2020-02-24  3,225.90  3,257.60  3,259.80  3,214.70     -3.35\n",
       "1550 2019-08-14  2,840.60  2,894.20  2,894.20  2,839.60     -2.93\n",
       "1557 2019-08-05  2,844.70  2,898.10  2,898.10  2,822.10     -2.98\n",
       "1710 2018-12-24  2,351.10  2,400.60  2,410.30  2,351.10     -2.71\n",
       "1723 2018-12-04  2,700.10  2,782.40  2,785.90  2,697.20     -3.24\n",
       "1751 2018-10-24  2,656.10  2,737.90  2,742.60  2,651.90     -3.09\n",
       "1761 2018-10-10  2,785.70  2,873.90  2,874.00  2,784.90     -3.28\n",
       "1930 2018-02-08  2,581.00  2,685.00  2,685.30  2,580.60     -3.76\n",
       "1933 2018-02-05  2,648.90  2,741.10  2,763.40  2,638.20     -4.10"
      ]
     },
     "execution_count": 3,
     "metadata": {},
     "output_type": "execute_result"
    }
   ],
   "source": [
    "trump_1st_term = historical[(historical[\"Date\"] <= \"2021-01-19\") & (historical[\"Change %\"] <= -2.71)]\n",
    "trump_1st_term"
   ]
  },
  {
   "cell_type": "markdown",
   "id": "27caa934-03f8-43ff-ad57-6763df259ceb",
   "metadata": {},
   "source": [
    "<h4>General Analysis of Trump's First Term:</h4>  "
   ]
  },
  {
   "cell_type": "code",
   "execution_count": 4,
   "id": "101aa090-18f6-43a9-a133-a24a58de1b73",
   "metadata": {},
   "outputs": [
    {
     "name": "stdout",
     "output_type": "stream",
     "text": [
      "1) There were 28 days with intraday drops equal or larger than -2.71% during Trump's first term.\n",
      "2) The average drop during his first term was -4.25 %\n",
      "3) The standard deviation during his first term was 2.16 %\n"
     ]
    }
   ],
   "source": [
    "# Number of days with drops:\n",
    "trump_1st_term_days_drop = len(trump_1st_term)\n",
    "print(\"1) There were\", trump_1st_term_days_drop, \"days with intraday drops equal or larger than -2.71% during Trump's first term.\")\n",
    "\n",
    "# Mean drop percentage\n",
    "trump_1st_term_drop_mean = round(trump_1st_term[\"Change %\"].mean(), 2)\n",
    "print(\"2) The average drop during his first term was\", trump_1st_term_drop_mean,\"%\")\n",
    "\n",
    "# Standard deviation\n",
    "trump_1st_term_std = round(trump_1st_term[\"Change %\"].std(), 2)\n",
    "print(\"3) The standard deviation during his first term was\", trump_1st_term_std, \"%\")"
   ]
  },
  {
   "cell_type": "markdown",
   "id": "c88c516b-93d7-4165-82b8-3bdac899508f",
   "metadata": {},
   "source": [
    "<h4>Probability Analysis using Poisson's:</h4>"
   ]
  },
  {
   "cell_type": "code",
   "execution_count": 5,
   "id": "b1c6d3ce-024e-430a-a84d-dd3f907ab8c7",
   "metadata": {},
   "outputs": [
    {
     "name": "stdout",
     "output_type": "stream",
     "text": [
      "7.01 intraday stock market corrections per year on average during Trump's first term.\n"
     ]
    }
   ],
   "source": [
    "# lambda for Poisson's, using number of trading days during administration, number of events and 252 trading days per year\n",
    "trump_1st_neg_events_year = round(((len(trump_1st_term) / 1007)) * 252, 2)\n",
    "print(trump_1st_neg_events_year, \"intraday stock market corrections per year on average during Trump's first term.\")"
   ]
  },
  {
   "cell_type": "markdown",
   "id": "804eaddd-c461-43a3-9de7-d529db1d8d6e",
   "metadata": {},
   "source": [
    "<h4>Theoretical probability of larger than 2.71% intraday corrections under Trump's 1st term:</h4>"
   ]
  },
  {
   "cell_type": "code",
   "execution_count": 6,
   "id": "b0fb44a4-4a89-4555-a8fd-ddcffb93b78c",
   "metadata": {},
   "outputs": [
    {
     "data": {
      "image/png": "[encoded data removed]",
      "text/plain": [
       "<Figure size 640x480 with 1 Axes>"
      ]
     },
     "metadata": {},
     "output_type": "display_data"
    }
   ],
   "source": [
    "X = np.array(range(0, 20))\n",
    "pmf = poisson.pmf(X, trump_1st_neg_events_year)\n",
    "\n",
    "fig, ax = plt.subplots()\n",
    "\n",
    "ax.bar(X, pmf, width=0.95, ec='white')\n",
    "ax.grid(alpha=0.25)\n",
    "ax.set_xlim([0,20])\n",
    "ax.set_xlabel(\"Number of Intraday Corrections (>2.71%)\")\n",
    "ax.set_ylabel(\"Probability\")\n",
    "ax.set_title(\"Theoretical Probability of Yearly, Intraday Corrections (>2.71%) Under Trump (1st Term)\")\n",
    "\n",
    "plt.show()"
   ]
  },
  {
   "cell_type": "markdown",
   "id": "4cbd09d6-9be3-470e-9cd0-2f1a480108e3",
   "metadata": {},
   "source": [
    "<h2>Biden's Term</h2>  "
   ]
  },
  {
   "cell_type": "code",
   "execution_count": 7,
   "id": "d6b87a35-6a6c-48ed-897c-e3bb56e27f86",
   "metadata": {},
   "outputs": [
    {
     "data": {
      "text/html": [
       "<div>\n",
       "<style scoped>\n",
       "    .dataframe tbody tr th:only-of-type {\n",
       "        vertical-align: middle;\n",
       "    }\n",
       "\n",
       "    .dataframe tbody tr th {\n",
       "        vertical-align: top;\n",
       "    }\n",
       "\n",
       "    .dataframe thead th {\n",
       "        text-align: right;\n",
       "    }\n",
       "</style>\n",
       "<table border=\"1\" class=\"dataframe\">\n",
       "  <thead>\n",
       "    <tr style=\"text-align: right;\">\n",
       "      <th></th>\n",
       "      <th>Date</th>\n",
       "      <th>Price</th>\n",
       "      <th>Open</th>\n",
       "      <th>High</th>\n",
       "      <th>Low</th>\n",
       "      <th>Change %</th>\n",
       "    </tr>\n",
       "  </thead>\n",
       "  <tbody>\n",
       "    <tr>\n",
       "      <th>204</th>\n",
       "      <td>2024-12-18</td>\n",
       "      <td>5,872.16</td>\n",
       "      <td>6,047.65</td>\n",
       "      <td>6,070.67</td>\n",
       "      <td>5,867.79</td>\n",
       "      <td>-2.95</td>\n",
       "    </tr>\n",
       "    <tr>\n",
       "      <th>299</th>\n",
       "      <td>2024-08-05</td>\n",
       "      <td>5,186.33</td>\n",
       "      <td>5,151.14</td>\n",
       "      <td>5,250.89</td>\n",
       "      <td>5,119.26</td>\n",
       "      <td>-3.00</td>\n",
       "    </tr>\n",
       "    <tr>\n",
       "      <th>756</th>\n",
       "      <td>2022-10-07</td>\n",
       "      <td>3,639.66</td>\n",
       "      <td>3,706.74</td>\n",
       "      <td>3,706.74</td>\n",
       "      <td>3,620.73</td>\n",
       "      <td>-2.80</td>\n",
       "    </tr>\n",
       "    <tr>\n",
       "      <th>774</th>\n",
       "      <td>2022-09-13</td>\n",
       "      <td>3,932.69</td>\n",
       "      <td>4,037.12</td>\n",
       "      <td>4,037.12</td>\n",
       "      <td>3,921.28</td>\n",
       "      <td>-4.32</td>\n",
       "    </tr>\n",
       "    <tr>\n",
       "      <th>785</th>\n",
       "      <td>2022-08-26</td>\n",
       "      <td>4,057.66</td>\n",
       "      <td>4,198.74</td>\n",
       "      <td>4,203.04</td>\n",
       "      <td>4,057.66</td>\n",
       "      <td>-3.37</td>\n",
       "    </tr>\n",
       "    <tr>\n",
       "      <th>834</th>\n",
       "      <td>2022-06-16</td>\n",
       "      <td>3,666.77</td>\n",
       "      <td>3,728.18</td>\n",
       "      <td>3,728.18</td>\n",
       "      <td>3,639.77</td>\n",
       "      <td>-3.25</td>\n",
       "    </tr>\n",
       "    <tr>\n",
       "      <th>837</th>\n",
       "      <td>2022-06-13</td>\n",
       "      <td>3,749.63</td>\n",
       "      <td>3,838.15</td>\n",
       "      <td>3,838.15</td>\n",
       "      <td>3,734.30</td>\n",
       "      <td>-3.88</td>\n",
       "    </tr>\n",
       "    <tr>\n",
       "      <th>838</th>\n",
       "      <td>2022-06-10</td>\n",
       "      <td>3,900.86</td>\n",
       "      <td>3,974.39</td>\n",
       "      <td>3,974.39</td>\n",
       "      <td>3,900.16</td>\n",
       "      <td>-2.91</td>\n",
       "    </tr>\n",
       "    <tr>\n",
       "      <th>854</th>\n",
       "      <td>2022-05-18</td>\n",
       "      <td>3,923.68</td>\n",
       "      <td>4,051.98</td>\n",
       "      <td>4,051.98</td>\n",
       "      <td>3,911.91</td>\n",
       "      <td>-4.04</td>\n",
       "    </tr>\n",
       "    <tr>\n",
       "      <th>861</th>\n",
       "      <td>2022-05-09</td>\n",
       "      <td>3,991.24</td>\n",
       "      <td>4,081.27</td>\n",
       "      <td>4,081.27</td>\n",
       "      <td>3,975.48</td>\n",
       "      <td>-3.20</td>\n",
       "    </tr>\n",
       "    <tr>\n",
       "      <th>863</th>\n",
       "      <td>2022-05-05</td>\n",
       "      <td>4,146.87</td>\n",
       "      <td>4,270.43</td>\n",
       "      <td>4,270.43</td>\n",
       "      <td>4,106.01</td>\n",
       "      <td>-3.56</td>\n",
       "    </tr>\n",
       "    <tr>\n",
       "      <th>867</th>\n",
       "      <td>2022-04-29</td>\n",
       "      <td>4,131.93</td>\n",
       "      <td>4,253.75</td>\n",
       "      <td>4,269.68</td>\n",
       "      <td>4,124.28</td>\n",
       "      <td>-3.63</td>\n",
       "    </tr>\n",
       "    <tr>\n",
       "      <th>870</th>\n",
       "      <td>2022-04-26</td>\n",
       "      <td>4,175.20</td>\n",
       "      <td>4,278.14</td>\n",
       "      <td>4,278.14</td>\n",
       "      <td>4,175.04</td>\n",
       "      <td>-2.81</td>\n",
       "    </tr>\n",
       "    <tr>\n",
       "      <th>872</th>\n",
       "      <td>2022-04-22</td>\n",
       "      <td>4,271.78</td>\n",
       "      <td>4,385.83</td>\n",
       "      <td>4,385.83</td>\n",
       "      <td>4,267.62</td>\n",
       "      <td>-2.77</td>\n",
       "    </tr>\n",
       "    <tr>\n",
       "      <th>905</th>\n",
       "      <td>2022-03-07</td>\n",
       "      <td>4,201.09</td>\n",
       "      <td>4,327.01</td>\n",
       "      <td>4,327.01</td>\n",
       "      <td>4,199.85</td>\n",
       "      <td>-2.95</td>\n",
       "    </tr>\n",
       "  </tbody>\n",
       "</table>\n",
       "</div>"
      ],
      "text/plain": [
       "          Date     Price      Open      High       Low  Change %\n",
       "204 2024-12-18  5,872.16  6,047.65  6,070.67  5,867.79     -2.95\n",
       "299 2024-08-05  5,186.33  5,151.14  5,250.89  5,119.26     -3.00\n",
       "756 2022-10-07  3,639.66  3,706.74  3,706.74  3,620.73     -2.80\n",
       "774 2022-09-13  3,932.69  4,037.12  4,037.12  3,921.28     -4.32\n",
       "785 2022-08-26  4,057.66  4,198.74  4,203.04  4,057.66     -3.37\n",
       "834 2022-06-16  3,666.77  3,728.18  3,728.18  3,639.77     -3.25\n",
       "837 2022-06-13  3,749.63  3,838.15  3,838.15  3,734.30     -3.88\n",
       "838 2022-06-10  3,900.86  3,974.39  3,974.39  3,900.16     -2.91\n",
       "854 2022-05-18  3,923.68  4,051.98  4,051.98  3,911.91     -4.04\n",
       "861 2022-05-09  3,991.24  4,081.27  4,081.27  3,975.48     -3.20\n",
       "863 2022-05-05  4,146.87  4,270.43  4,270.43  4,106.01     -3.56\n",
       "867 2022-04-29  4,131.93  4,253.75  4,269.68  4,124.28     -3.63\n",
       "870 2022-04-26  4,175.20  4,278.14  4,278.14  4,175.04     -2.81\n",
       "872 2022-04-22  4,271.78  4,385.83  4,385.83  4,267.62     -2.77\n",
       "905 2022-03-07  4,201.09  4,327.01  4,327.01  4,199.85     -2.95"
      ]
     },
     "execution_count": 7,
     "metadata": {},
     "output_type": "execute_result"
    }
   ],
   "source": [
    "biden_term = historical[(historical[\"Date\"] >= \"2021-01-20\") & (historical[\"Date\"] <= \"2025-01-19\") & (historical[\"Change %\"] <= -2.71)]\n",
    "biden_term"
   ]
  },
  {
   "cell_type": "markdown",
   "id": "e17a25bd-deca-42b5-b4c8-3e00e1351cfa",
   "metadata": {},
   "source": [
    "<h4>General Analysis of Biden's Term:</h4>  "
   ]
  },
  {
   "cell_type": "code",
   "execution_count": 8,
   "id": "df2e897e-0dab-4bfe-9480-eff3f8dbe226",
   "metadata": {},
   "outputs": [
    {
     "name": "stdout",
     "output_type": "stream",
     "text": [
      "1) There were 15 days with intraday drops equal or larger than -2.71% during Biden's term.\n",
      "2) The average drop during Biden's term was -3.3 %\n",
      "3) The standard deviation during Biden's term was 0.49 %\n"
     ]
    }
   ],
   "source": [
    "# Number of days with drops:\n",
    "biden_term_days_drop = len(biden_term)\n",
    "print(\"1) There were\", biden_term_days_drop, \"days with intraday drops equal or larger than -2.71% during Biden's term.\")\n",
    "\n",
    "# Mean drop percentage\n",
    "biden_term_drop_mean = round(biden_term[\"Change %\"].mean(), 2)\n",
    "print(\"2) The average drop during Biden's term was\", biden_term_drop_mean,\"%\")\n",
    "\n",
    "# Standard deviation\n",
    "biden_term_std = round(biden_term[\"Change %\"].std(), 2)\n",
    "print(\"3) The standard deviation during Biden's term was\", biden_term_std, \"%\")"
   ]
  },
  {
   "cell_type": "markdown",
   "id": "d3b95ba6-bba5-4260-b6d4-26582a379500",
   "metadata": {},
   "source": [
    "<h4>Probability Analysis using Poisson's:</h4>"
   ]
  },
  {
   "cell_type": "code",
   "execution_count": 9,
   "id": "6602c8ef-ed51-4943-b705-4a31d5080a8e",
   "metadata": {},
   "outputs": [
    {
     "name": "stdout",
     "output_type": "stream",
     "text": [
      "3.75 intraday stock market corrections per year on average during Biden's term.\n"
     ]
    }
   ],
   "source": [
    "# lambda for Poisson's, using number of trading days during administration, number of events and 252 trading days per year\n",
    "biden_term_neg_events_year = round(((len(biden_term) / 1007)) * 252, 2)\n",
    "print(biden_term_neg_events_year, \"intraday stock market corrections per year on average during Biden's term.\")"
   ]
  },
  {
   "cell_type": "markdown",
   "id": "2344da9f-6fb8-457f-a6d1-9365652a0440",
   "metadata": {},
   "source": [
    "<h4>Theoretical probability of larger than 2.71% intraday corrections under Biden's term:</h4>"
   ]
  },
  {
   "cell_type": "code",
   "execution_count": 10,
   "id": "1484776e-3004-407c-bee1-4d7f1d170298",
   "metadata": {},
   "outputs": [
    {
     "data": {
      "image/png": "[encoded data removed]",
      "text/plain": [
       "<Figure size 640x480 with 1 Axes>"
      ]
     },
     "metadata": {},
     "output_type": "display_data"
    }
   ],
   "source": [
    "X = np.array(range(0, 20))\n",
    "pmf = poisson.pmf(X, biden_term_neg_events_year)\n",
    "\n",
    "fig, ax = plt.subplots()\n",
    "\n",
    "ax.bar(X, pmf, width=0.95, ec='white')\n",
    "ax.grid(alpha=0.25)\n",
    "ax.set_xlim([0,20])\n",
    "ax.set_xlabel(\"Number of Intraday Corrections (>2.71%)\")\n",
    "ax.set_ylabel(\"Probability\")\n",
    "ax.set_title(\"Theoretical Probability of Yearly, Intraday Corrections (>2.71%) Under Biden\")\n",
    "\n",
    "plt.show()"
   ]
  },
  {
   "cell_type": "markdown",
   "id": "5a2577d2-65c8-4207-be73-ef0a0d0113ca",
   "metadata": {},
   "source": [
    "<h2>Trumps's Second Term</h2>"
   ]
  },
  {
   "cell_type": "code",
   "execution_count": 11,
   "id": "b3510b1e-a469-4464-82f6-3c4fb022ddcc",
   "metadata": {},
   "outputs": [
    {
     "data": {
      "text/html": [
       "<div>\n",
       "<style scoped>\n",
       "    .dataframe tbody tr th:only-of-type {\n",
       "        vertical-align: middle;\n",
       "    }\n",
       "\n",
       "    .dataframe tbody tr th {\n",
       "        vertical-align: top;\n",
       "    }\n",
       "\n",
       "    .dataframe thead th {\n",
       "        text-align: right;\n",
       "    }\n",
       "</style>\n",
       "<table border=\"1\" class=\"dataframe\">\n",
       "  <thead>\n",
       "    <tr style=\"text-align: right;\">\n",
       "      <th></th>\n",
       "      <th>Date</th>\n",
       "      <th>Price</th>\n",
       "      <th>Open</th>\n",
       "      <th>High</th>\n",
       "      <th>Low</th>\n",
       "      <th>Change %</th>\n",
       "    </tr>\n",
       "  </thead>\n",
       "  <tbody>\n",
       "    <tr>\n",
       "      <th>2</th>\n",
       "      <td>2025-10-10</td>\n",
       "      <td>6,552.51</td>\n",
       "      <td>6,740.49</td>\n",
       "      <td>6,762.40</td>\n",
       "      <td>6,550.78</td>\n",
       "      <td>-2.71</td>\n",
       "    </tr>\n",
       "    <tr>\n",
       "      <th>128</th>\n",
       "      <td>2025-04-10</td>\n",
       "      <td>5,268.05</td>\n",
       "      <td>5,353.15</td>\n",
       "      <td>5,353.15</td>\n",
       "      <td>5,115.27</td>\n",
       "      <td>-3.46</td>\n",
       "    </tr>\n",
       "    <tr>\n",
       "      <th>132</th>\n",
       "      <td>2025-04-04</td>\n",
       "      <td>5,074.08</td>\n",
       "      <td>5,292.14</td>\n",
       "      <td>5,292.14</td>\n",
       "      <td>5,069.90</td>\n",
       "      <td>-5.97</td>\n",
       "    </tr>\n",
       "    <tr>\n",
       "      <th>133</th>\n",
       "      <td>2025-04-03</td>\n",
       "      <td>5,396.52</td>\n",
       "      <td>5,492.74</td>\n",
       "      <td>5,499.53</td>\n",
       "      <td>5,390.83</td>\n",
       "      <td>-4.84</td>\n",
       "    </tr>\n",
       "  </tbody>\n",
       "</table>\n",
       "</div>"
      ],
      "text/plain": [
       "          Date     Price      Open      High       Low  Change %\n",
       "2   2025-10-10  6,552.51  6,740.49  6,762.40  6,550.78     -2.71\n",
       "128 2025-04-10  5,268.05  5,353.15  5,353.15  5,115.27     -3.46\n",
       "132 2025-04-04  5,074.08  5,292.14  5,292.14  5,069.90     -5.97\n",
       "133 2025-04-03  5,396.52  5,492.74  5,499.53  5,390.83     -4.84"
      ]
     },
     "execution_count": 11,
     "metadata": {},
     "output_type": "execute_result"
    }
   ],
   "source": [
    "trump_2nd_term = historical[(historical[\"Date\"] >= \"2025-01-20\") & (historical[\"Change %\"] <= -2.71)]\n",
    "trump_2nd_term"
   ]
  },
  {
   "cell_type": "markdown",
   "id": "c3aa9461-240c-4977-999a-e13520da5004",
   "metadata": {},
   "source": [
    "<h4>General Analysis of Trump's Second Term:</h4>  "
   ]
  },
  {
   "cell_type": "code",
   "execution_count": 12,
   "id": "1bf30820-166d-41b5-9d95-51955082a90a",
   "metadata": {},
   "outputs": [
    {
     "name": "stdout",
     "output_type": "stream",
     "text": [
      "1) There have been 4 days with intraday drops equal or larger than -2.71% during Trump's second term.\n",
      "2) The average drop during his second term is -4.24 %\n",
      "3) The standard deviation during his second term is 1.45 %\n"
     ]
    }
   ],
   "source": [
    "# Number of days with drops:\n",
    "trump_2nd_term_days_drop = len(trump_2nd_term)\n",
    "print(\"1) There have been\", trump_2nd_term_days_drop, \"days with intraday drops equal or larger than -2.71% during Trump's second term.\")\n",
    "\n",
    "# Mean drop percentage\n",
    "trump_2nd_term_mean_drop = round(trump_2nd_term[\"Change %\"].mean(), 2)\n",
    "print(\"2) The average drop during his second term is\", trump_2nd_term_mean_drop,\"%\")\n",
    "\n",
    "# Standard deviation\n",
    "trump_2nd_term_std = round(trump_2nd_term[\"Change %\"].std(), 2)\n",
    "print(\"3) The standard deviation during his second term is\", trump_2nd_term_std, \"%\")"
   ]
  },
  {
   "cell_type": "markdown",
   "id": "697126e6-8aac-4523-a7dd-01526c76aa22",
   "metadata": {},
   "source": [
    "<h4>Theoretical probability of larger than 2.71% intraday corrections under Trump's 2nd term:</h4>"
   ]
  },
  {
   "cell_type": "code",
   "execution_count": 13,
   "id": "977672a0-275d-42bf-b44a-916835305774",
   "metadata": {},
   "outputs": [
    {
     "name": "stdout",
     "output_type": "stream",
     "text": [
      "5.17 intraday stock market corrections per year on average during Trump's second term.\n"
     ]
    }
   ],
   "source": [
    "# lambda for Poisson's, using number of trading days during administration, number of events and 252 trading days per year\n",
    "trump_2nd_neg_events_year = round(((len(trump_2nd_term) / 195)) * 252, 2)\n",
    "print(trump_2nd_neg_events_year, \"intraday stock market corrections per year on average during Trump's second term.\")"
   ]
  },
  {
   "cell_type": "markdown",
   "id": "97225cef-f380-4e58-9b07-6d7cb9b81ee5",
   "metadata": {},
   "source": [
    "<h4>Theoretical probability of larger than 2.71% intraday corrections under Trumps's second term:</h4>"
   ]
  },
  {
   "cell_type": "code",
   "execution_count": 14,
   "id": "c0e34d77-dd7a-479c-bb08-86a9884817d8",
   "metadata": {},
   "outputs": [
    {
     "data": {
      "image/png": "[encoded data removed]",
      "text/plain": [
       "<Figure size 640x480 with 1 Axes>"
      ]
     },
     "metadata": {},
     "output_type": "display_data"
    }
   ],
   "source": [
    "X = np.array(range(0, 20))\n",
    "pmf = poisson.pmf(X, trump_2nd_neg_events_year)\n",
    "\n",
    "fig, ax = plt.subplots()\n",
    "\n",
    "ax.bar(X, pmf, width=0.95, ec='white')\n",
    "ax.grid(alpha=0.25)\n",
    "ax.set_xlim([0,20])\n",
    "ax.set_xlabel(\"Number of Intraday Corrections (>2.71%)\")\n",
    "ax.set_ylabel(\"Probability\")\n",
    "ax.set_title(\"Theoretical Probability of Yearly, Intraday Corrections (>2.71%) Under Trump (2nd Term)\")\n",
    "\n",
    "plt.show()"
   ]
  },
  {
   "cell_type": "code",
   "execution_count": null,
   "id": "6794a0fd-4002-41be-a8f3-9eab41da8010",
   "metadata": {},
   "outputs": [],
   "source": []
  },
  {
   "cell_type": "markdown",
   "id": "b0283df6-5255-4f6a-9427-50a60e72f5a0",
   "metadata": {},
   "source": [
    "<h2>Predictions for Trump's Second Term</h2>"
   ]
  },
  {
   "cell_type": "markdown",
   "id": "09bb967c-89ac-4d11-bdbe-135bf6a72377",
   "metadata": {},
   "source": [
    "<h4>What is the probability of at least one correction in the next year?</h4>"
   ]
  },
  {
   "cell_type": "code",
   "execution_count": 15,
   "id": "68ffb322-1fc0-4f77-867a-44de1b08104d",
   "metadata": {},
   "outputs": [
    {
     "data": {
      "text/plain": [
       "0.9943"
      ]
     },
     "execution_count": 15,
     "metadata": {},
     "output_type": "execute_result"
    }
   ],
   "source": [
    "at_least_one = round(1 - math.e**(-trump_2nd_neg_events_year), 4)\n",
    "at_least_one"
   ]
  },
  {
   "cell_type": "markdown",
   "id": "a8359e33-51f0-4755-8c48-29d5bb9303c0",
   "metadata": {},
   "source": [
    "<h4>What is the probability of a correction in the next month? assuming 22 trading days per month</h4>"
   ]
  },
  {
   "cell_type": "code",
   "execution_count": 16,
   "id": "4894ac31-6132-4827-afcb-931da1c2466f",
   "metadata": {},
   "outputs": [
    {
     "data": {
      "text/plain": [
       "0.2874"
      ]
     },
     "execution_count": 16,
     "metadata": {},
     "output_type": "execute_result"
    }
   ],
   "source": [
    "twentytwo_day_lambda = trump_2nd_neg_events_year * (22/252)\n",
    "one_next_thirty_days = round(math.e**(-twentytwo_day_lambda) * ((twentytwo_day_lambda**1) / special.factorial(1)), 4).item()\n",
    "one_next_thirty_days"
   ]
  },
  {
   "cell_type": "markdown",
   "id": "3acc780f-84be-4d50-961e-e15e99ac744e",
   "metadata": {},
   "source": [
    "<h4>What is the probability of at least one correction in the next 30 days?</h4>"
   ]
  },
  {
   "cell_type": "code",
   "execution_count": 17,
   "id": "df669e70-aac9-4395-aee2-8c1ad3850d4a",
   "metadata": {},
   "outputs": [
    {
     "data": {
      "text/plain": [
       "0.3632"
      ]
     },
     "execution_count": 17,
     "metadata": {},
     "output_type": "execute_result"
    }
   ],
   "source": [
    "at_least_one_next_month = round(1 - math.e**(-twentytwo_day_lambda), 4)\n",
    "at_least_one_next_month"
   ]
  },
  {
   "cell_type": "markdown",
   "id": "8507e958-1421-4712-ba07-176d15b0622a",
   "metadata": {},
   "source": [
    "<h4>What is the probability of at least two corrections in the next 30 days?</h4>"
   ]
  },
  {
   "cell_type": "code",
   "execution_count": 18,
   "id": "7203b23f-67fd-4bdc-a63e-c594c3c7e1d5",
   "metadata": {},
   "outputs": [
    {
     "data": {
      "text/plain": [
       "0.0758"
      ]
     },
     "execution_count": 18,
     "metadata": {},
     "output_type": "execute_result"
    }
   ],
   "source": [
    "at_least_two_next_month = round(1 - math.e**(-twentytwo_day_lambda) * (1 + twentytwo_day_lambda), 4)\n",
    "at_least_two_next_month"
   ]
  },
  {
   "cell_type": "markdown",
   "id": "79e98c0b-5e34-419d-906c-2bc5c26b56c9",
   "metadata": {},
   "source": [
    "<h4>What is the probability of at least three corrections in the next 30 days?</h4>"
   ]
  },
  {
   "cell_type": "code",
   "execution_count": 19,
   "id": "e8b4d103-4dc9-4e9d-998d-c90280196405",
   "metadata": {},
   "outputs": [
    {
     "data": {
      "text/plain": [
       "0.011"
      ]
     },
     "execution_count": 19,
     "metadata": {},
     "output_type": "execute_result"
    }
   ],
   "source": [
    "at_least_three_next_month = round(1 - math.e**(-twentytwo_day_lambda) * (\n",
    "                                    1 + twentytwo_day_lambda + (twentytwo_day_lambda**2) / 2)\n",
    "                            , 4)\n",
    "at_least_three_next_month"
   ]
  },
  {
   "cell_type": "markdown",
   "id": "f12c8c8b-011e-4c66-8339-690cd1640446",
   "metadata": {},
   "source": [
    "<h4>Probability of having more than 5 intraday corrections (>2.71%) per year?</h4>"
   ]
  },
  {
   "cell_type": "code",
   "execution_count": 24,
   "id": "30c2e741-07e2-4405-b4cc-601fe24097d5",
   "metadata": {},
   "outputs": [
    {
     "name": "stdout",
     "output_type": "stream",
     "text": [
      "0.59\n"
     ]
    }
   ],
   "source": [
    "print(round(sum(pmf[5:]), 2))"
   ]
  },
  {
   "cell_type": "code",
   "execution_count": null,
   "id": "662d251e-dfa5-4673-b6fe-30c6b3dc6aee",
   "metadata": {},
   "outputs": [],
   "source": []
  }
 ],
 "metadata": {
  "kernelspec": {
   "display_name": "Python 3 (ipykernel)",
   "language": "python",
   "name": "python3"
  },
  "language_info": {
   "codemirror_mode": {
    "name": "ipython",
    "version": 3
   },
   "file_extension": ".py",
   "mimetype": "text/x-python",
   "name": "python",
   "nbconvert_exporter": "python",
   "pygments_lexer": "ipython3",
   "version": "3.11.9"
  }
 },
 "nbformat": 4,
 "nbformat_minor": 5
}
